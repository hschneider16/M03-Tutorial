{
 "cells": [
  {
   "cell_type": "markdown",
   "id": "232567c1",
   "metadata": {},
   "source": [
    "Binary Search"
   ]
  },
  {
   "cell_type": "code",
   "execution_count": 1,
   "id": "f338afe4",
   "metadata": {},
   "outputs": [],
   "source": [
    "class Solution:\n",
    "    def binarysearch(self, arr, n, k):\n",
    "        left = 0\n",
    "        right = n - 1\n",
    "\n",
    "        while left <= right:\n",
    "            mid = (left + right) // 2\n",
    "\n",
    "            if arr[mid] == k:\n",
    "                return mid\n",
    "            elif arr[mid] < k:\n",
    "                left = mid + 1\n",
    "            else:\n",
    "                right = mid - 1\n",
    "\n",
    "        return -1"
   ]
  },
  {
   "cell_type": "markdown",
   "id": "91d79ef7",
   "metadata": {},
   "source": [
    "Running this in geeksforgeeks gave me this output: For Input: \n",
    "5\n",
    "1 2 3 4 5 \n",
    "4\n",
    "Your Output: \n",
    "3\n",
    "Expected Output: \n",
    "3\n"
   ]
  },
  {
   "cell_type": "markdown",
   "id": "683252e6",
   "metadata": {},
   "source": [
    "Sort an Array of 0s, 1s, and 2s"
   ]
  },
  {
   "cell_type": "code",
   "execution_count": 2,
   "id": "4c1587b2",
   "metadata": {},
   "outputs": [],
   "source": [
    "class Solution:\n",
    "    def sort012(self, arr, n):\n",
    "        count = [0] * 3 \n",
    "\n",
    "        for num in arr:\n",
    "            count[num] += 1\n",
    "\n",
    "        index = 0\n",
    "\n",
    "        for i in range(3):\n",
    "            while count[i] > 0:\n",
    "                arr[index] = i\n",
    "                index += 1\n",
    "                count[i] -= 1\n",
    "\n",
    "        return arr"
   ]
  },
  {
   "cell_type": "markdown",
   "id": "eafe6e8a",
   "metadata": {},
   "source": [
    "Running this in geeksforgeeks gave me the output: For Input: \n",
    "5\n",
    "0 2 1 2 0\n",
    "Your Output: \n",
    "0 0 1 2 2\n",
    "Expected Output: \n",
    "0 0 1 2 2"
   ]
  }
 ],
 "metadata": {
  "kernelspec": {
   "display_name": "Python 3 (ipykernel)",
   "language": "python",
   "name": "python3"
  },
  "language_info": {
   "codemirror_mode": {
    "name": "ipython",
    "version": 3
   },
   "file_extension": ".py",
   "mimetype": "text/x-python",
   "name": "python",
   "nbconvert_exporter": "python",
   "pygments_lexer": "ipython3",
   "version": "3.11.5"
  }
 },
 "nbformat": 4,
 "nbformat_minor": 5
}
